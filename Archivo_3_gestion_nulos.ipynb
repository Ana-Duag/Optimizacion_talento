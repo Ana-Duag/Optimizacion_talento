{
 "cells": [
  {
   "cell_type": "code",
   "execution_count": 1,
   "id": "57befa92",
   "metadata": {},
   "outputs": [],
   "source": [
    "# importamos las librerías que necesitamos\n",
    "\n",
    "# Tratamiento de datos\n",
    "import pandas as pd\n",
    "import numpy as np\n",
    "from IPython.display import display\n",
    "\n",
    "\n",
    "# Librerías de visualización\n",
    "import seaborn as sns\n",
    "import matplotlib.pyplot as plt"
   ]
  },
  {
   "cell_type": "code",
   "execution_count": 2,
   "id": "e0f2f496",
   "metadata": {},
   "outputs": [],
   "source": [
    "# ver todas las columnas\n",
    "pd.set_option('display.max_columns', None)"
   ]
  },
  {
   "cell_type": "code",
   "execution_count": 3,
   "id": "4ec1c3df",
   "metadata": {},
   "outputs": [],
   "source": [
    "# ver todas las filas\n",
    "pd.set_option('display.max_rows', None)"
   ]
  },
  {
   "cell_type": "code",
   "execution_count": 4,
   "id": "e196af65",
   "metadata": {},
   "outputs": [],
   "source": [
    "# Cargamos el csv\n",
    "\n",
    "df = pd.read_csv(\"ABC_data_sin_columnas_redundantes.csv\")"
   ]
  },
  {
   "cell_type": "markdown",
   "id": "8b8d2b50",
   "metadata": {},
   "source": [
    "Asegurar tipos de datos correctos antes de imputar nulos:"
   ]
  },
  {
   "cell_type": "code",
   "execution_count": 5,
   "id": "b24d3f85",
   "metadata": {},
   "outputs": [],
   "source": [
    "import pandas as pd\n",
    "import numpy as np\n",
    "\n",
    "def preparar_tipos_seguro(df, threshold_numerico=0.8):\n",
    "    \"\"\"\n",
    "    🔧 Versión segura de 'preparar_tipos':\n",
    "    - Limpia nombres de columnas.\n",
    "    - Convierte columnas numéricas de verdad a float.\n",
    "    - Convierte texto (object) a category.\n",
    "    - Evita crear nuevos nulos.\n",
    "    - threshold_numerico: porcentaje mínimo de valores numéricos reales\n",
    "      necesario para convertir una columna a numérica.\n",
    "    \"\"\"\n",
    "\n",
    "    # 1️⃣ Limpieza de nombres de columnas\n",
    "    df.columns = (\n",
    "        df.columns\n",
    "        .str.strip()\n",
    "        .str.lower()\n",
    "        .str.replace(' ', '_')\n",
    "        .str.replace('-', '_')\n",
    "    )\n",
    "\n",
    "    # 2️⃣ Intentar conversión segura a numérico solo si la mayoría de los valores son números\n",
    "    for col in df.select_dtypes(include='object').columns:\n",
    "        # Contar valores que se pueden convertir a número\n",
    "        serie = df[col].dropna().astype(str).str.replace(',', '.')\n",
    "        numericos_validos = serie.str.replace('.', '', 1).str.isnumeric().mean()\n",
    "\n",
    "        # Si más del threshold% son números, convertir\n",
    "        if numericos_validos >= threshold_numerico:\n",
    "            df[col] = pd.to_numeric(serie, errors='coerce')\n",
    "            print(f\"🔢 '{col}' convertido a numérico (float).\")\n",
    "        else:\n",
    "            # Dejarlo como texto limpio\n",
    "            df[col] = df[col].astype(str).str.strip()\n",
    "            df[col] = df[col].replace(['nan', 'None', '', 'NaN'], pd.NA)\n",
    "            df[col] = df[col].astype('category')\n",
    "            print(f\"🔤 '{col}' convertido a categoría (manteniendo nulos).\")\n",
    "\n",
    "    # 3️⃣ Asegurar que los numéricos sean float\n",
    "    for col in df.select_dtypes(include=['int', 'float']).columns:\n",
    "        df[col] = df[col].astype(float)\n",
    "\n",
    "    # 4️⃣ Informe final\n",
    "    print(\"\\n✅ Conversión de tipos completada correctamente.\")\n",
    "    print(df.dtypes.value_counts())\n",
    "\n",
    "    return df"
   ]
  },
  {
   "cell_type": "code",
   "execution_count": 6,
   "id": "b21c863e",
   "metadata": {},
   "outputs": [
    {
     "name": "stdout",
     "output_type": "stream",
     "text": [
      "🔤 'attrition' convertido a categoría (manteniendo nulos).\n",
      "🔤 'businesstravel' convertido a categoría (manteniendo nulos).\n",
      "🔤 'department' convertido a categoría (manteniendo nulos).\n",
      "🔤 'educationfield' convertido a categoría (manteniendo nulos).\n",
      "🔤 'jobrole' convertido a categoría (manteniendo nulos).\n",
      "🔤 'maritalstatus' convertido a categoría (manteniendo nulos).\n",
      "🔤 'monthlyincome' convertido a categoría (manteniendo nulos).\n",
      "🔤 'monthlyrate' convertido a categoría (manteniendo nulos).\n",
      "🔤 'overtime' convertido a categoría (manteniendo nulos).\n",
      "🔢 'performancerating' convertido a numérico (float).\n",
      "🔤 'standardhours' convertido a categoría (manteniendo nulos).\n",
      "🔢 'totalworkingyears' convertido a numérico (float).\n",
      "🔢 'worklifebalance' convertido a numérico (float).\n",
      "🔤 'salary' convertido a categoría (manteniendo nulos).\n",
      "🔤 'roledepartament' convertido a categoría (manteniendo nulos).\n",
      "🔤 'remotework' convertido a categoría (manteniendo nulos).\n",
      "\n",
      "✅ Conversión de tipos completada correctamente.\n",
      "float64     21\n",
      "category     2\n",
      "category     1\n",
      "category     1\n",
      "category     1\n",
      "category     1\n",
      "category     1\n",
      "category     1\n",
      "category     1\n",
      "category     1\n",
      "category     1\n",
      "category     1\n",
      "category     1\n",
      "Name: count, dtype: int64\n"
     ]
    }
   ],
   "source": [
    "df = preparar_tipos_seguro(df)"
   ]
  },
  {
   "cell_type": "code",
   "execution_count": 8,
   "id": "7bc5f570",
   "metadata": {},
   "outputs": [
    {
     "name": "stdout",
     "output_type": "stream",
     "text": [
      "Columnas con nulos y su porcentaje:\n",
      "\n"
     ]
    },
    {
     "data": {
      "text/html": [
       "<div>\n",
       "<style scoped>\n",
       "    .dataframe tbody tr th:only-of-type {\n",
       "        vertical-align: middle;\n",
       "    }\n",
       "\n",
       "    .dataframe tbody tr th {\n",
       "        vertical-align: top;\n",
       "    }\n",
       "\n",
       "    .dataframe thead th {\n",
       "        text-align: right;\n",
       "    }\n",
       "</style>\n",
       "<table border=\"1\" class=\"dataframe\">\n",
       "  <thead>\n",
       "    <tr style=\"text-align: right;\">\n",
       "      <th></th>\n",
       "      <th>Tipo de dato</th>\n",
       "      <th>Nulos (#)</th>\n",
       "      <th>Nulos (%)</th>\n",
       "    </tr>\n",
       "  </thead>\n",
       "  <tbody>\n",
       "    <tr>\n",
       "      <th>department</th>\n",
       "      <td>category</td>\n",
       "      <td>1312</td>\n",
       "      <td>81.29</td>\n",
       "    </tr>\n",
       "    <tr>\n",
       "      <th>roledepartament</th>\n",
       "      <td>category</td>\n",
       "      <td>1312</td>\n",
       "      <td>81.29</td>\n",
       "    </tr>\n",
       "    <tr>\n",
       "      <th>businesstravel</th>\n",
       "      <td>category</td>\n",
       "      <td>772</td>\n",
       "      <td>47.83</td>\n",
       "    </tr>\n",
       "    <tr>\n",
       "      <th>educationfield</th>\n",
       "      <td>category</td>\n",
       "      <td>745</td>\n",
       "      <td>46.16</td>\n",
       "    </tr>\n",
       "    <tr>\n",
       "      <th>overtime</th>\n",
       "      <td>category</td>\n",
       "      <td>676</td>\n",
       "      <td>41.88</td>\n",
       "    </tr>\n",
       "    <tr>\n",
       "      <th>maritalstatus</th>\n",
       "      <td>category</td>\n",
       "      <td>651</td>\n",
       "      <td>40.33</td>\n",
       "    </tr>\n",
       "    <tr>\n",
       "      <th>totalworkingyears</th>\n",
       "      <td>float64</td>\n",
       "      <td>526</td>\n",
       "      <td>32.59</td>\n",
       "    </tr>\n",
       "    <tr>\n",
       "      <th>monthlyincome</th>\n",
       "      <td>category</td>\n",
       "      <td>468</td>\n",
       "      <td>29.00</td>\n",
       "    </tr>\n",
       "    <tr>\n",
       "      <th>standardhours</th>\n",
       "      <td>category</td>\n",
       "      <td>338</td>\n",
       "      <td>20.94</td>\n",
       "    </tr>\n",
       "    <tr>\n",
       "      <th>salary</th>\n",
       "      <td>category</td>\n",
       "      <td>274</td>\n",
       "      <td>16.98</td>\n",
       "    </tr>\n",
       "    <tr>\n",
       "      <th>performancerating</th>\n",
       "      <td>float64</td>\n",
       "      <td>195</td>\n",
       "      <td>12.08</td>\n",
       "    </tr>\n",
       "    <tr>\n",
       "      <th>worklifebalance</th>\n",
       "      <td>float64</td>\n",
       "      <td>108</td>\n",
       "      <td>6.69</td>\n",
       "    </tr>\n",
       "  </tbody>\n",
       "</table>\n",
       "</div>"
      ],
      "text/plain": [
       "                  Tipo de dato  Nulos (#)  Nulos (%)\n",
       "department            category       1312      81.29\n",
       "roledepartament       category       1312      81.29\n",
       "businesstravel        category        772      47.83\n",
       "educationfield        category        745      46.16\n",
       "overtime              category        676      41.88\n",
       "maritalstatus         category        651      40.33\n",
       "totalworkingyears      float64        526      32.59\n",
       "monthlyincome         category        468      29.00\n",
       "standardhours         category        338      20.94\n",
       "salary                category        274      16.98\n",
       "performancerating      float64        195      12.08\n",
       "worklifebalance        float64        108       6.69"
      ]
     },
     "metadata": {},
     "output_type": "display_data"
    }
   ],
   "source": [
    "import pandas as pd\n",
    "\n",
    "# Crear resumen de tipos y nulos\n",
    "resumen_tipos_nulos = pd.DataFrame({\n",
    "    'Tipo de dato': df.dtypes.astype(str),\n",
    "    'Nulos (#)': df.isna().sum(),\n",
    "    'Nulos (%)': (df.isna().sum() / len(df) * 100).round(2)\n",
    "})\n",
    "\n",
    "# Filtrar solo las columnas con nulos > 0\n",
    "resumen_tipos_nulos = resumen_tipos_nulos[resumen_tipos_nulos['Nulos (#)'] > 0]\n",
    "\n",
    "# Ordenar por porcentaje descendente\n",
    "resumen_tipos_nulos = resumen_tipos_nulos.sort_values(by='Nulos (%)', ascending=False)\n",
    "\n",
    "# Mostrar el resultado\n",
    "if resumen_tipos_nulos.empty:\n",
    "    print(\"No hay columnas con valores nulos.\")\n",
    "else:\n",
    "    print(\"Columnas con nulos y su porcentaje:\\n\")\n",
    "    display(resumen_tipos_nulos)"
   ]
  },
  {
   "cell_type": "markdown",
   "id": "7f458e7e",
   "metadata": {},
   "source": [
    "Las ligeras variaciones en los porcentajes de nulos en comparación con el EDA, son debido a la eliminación de duplicados."
   ]
  },
  {
   "cell_type": "code",
   "execution_count": 9,
   "id": "e31140b3",
   "metadata": {},
   "outputs": [
    {
     "name": "stderr",
     "output_type": "stream",
     "text": [
      "C:\\Users\\apdue\\AppData\\Local\\Temp\\ipykernel_22704\\3521792253.py:51: UserWarning: Glyph 128201 (\\N{CHART WITH DOWNWARDS TREND}) missing from font(s) Arial.\n",
      "  plt.tight_layout()\n",
      "c:\\Users\\apdue\\anaconda3\\Lib\\site-packages\\IPython\\core\\pylabtools.py:170: UserWarning: Glyph 128201 (\\N{CHART WITH DOWNWARDS TREND}) missing from font(s) Arial.\n",
      "  fig.canvas.print_figure(bytes_io, **kw)\n"
     ]
    },
    {
     "data": {
      "image/png": "[encoded data removed]",
      "text/plain": [
       "<Figure size 1200x700 with 1 Axes>"
      ]
     },
     "metadata": {},
     "output_type": "display_data"
    }
   ],
   "source": [
    "import matplotlib.pyplot as plt\n",
    "import seaborn as sns\n",
    "import pandas as pd\n",
    "\n",
    "# ====================================================\n",
    "# 1️⃣ Calcular porcentaje de nulos por columna\n",
    "# ====================================================\n",
    "nulos_df = pd.DataFrame({\n",
    "    'Columna': df.columns,\n",
    "    'Nulos (%)': (df.isna().sum() / len(df) * 100).round(2)\n",
    "})\n",
    "\n",
    "# Filtrar solo las columnas con nulos > 0\n",
    "nulos_df = nulos_df[nulos_df['Nulos (%)'] > 0].sort_values(by='Nulos (%)', ascending=True)\n",
    "\n",
    "# ====================================================\n",
    "# 2️⃣ Gráfico de barras horizontales\n",
    "# ====================================================\n",
    "if nulos_df.empty:\n",
    "    print(\"✅ No hay columnas con valores nulos.\")\n",
    "else:\n",
    "    plt.figure(figsize=(12, 7))\n",
    "    sns.set_style(\"whitegrid\")\n",
    "\n",
    "    # Crear paleta de colores rojos degradados\n",
    "    colors = sns.color_palette(\"Reds\", n_colors=len(nulos_df))\n",
    "\n",
    "    # Gráfico de barras horizontales\n",
    "    bars = plt.barh(\n",
    "        y=nulos_df['Columna'],\n",
    "        width=nulos_df['Nulos (%)'],\n",
    "        color=colors,\n",
    "        edgecolor='black',\n",
    "        alpha=0.9\n",
    "    )\n",
    "\n",
    "    # Añadir porcentajes sobre las barras\n",
    "    for bar, pct in zip(bars, nulos_df['Nulos (%)']):\n",
    "        plt.text(\n",
    "            bar.get_width() + 0.5,  # un poco a la derecha del final de la barra\n",
    "            bar.get_y() + bar.get_height()/2,\n",
    "            f\"{pct:.2f}%\",\n",
    "            va='center', ha='left', fontsize=10, color='black'\n",
    "        )\n",
    "\n",
    "    # Estilo del gráfico\n",
    "    plt.title('📉 Porcentaje de valores nulos por columna', fontsize=16, fontweight='bold', pad=15)\n",
    "    plt.xlabel('Porcentaje de nulos (%)', fontsize=12)\n",
    "    plt.ylabel('Columnas', fontsize=12)\n",
    "    plt.grid(axis='x', linestyle='--', alpha=0.5)\n",
    "    plt.tight_layout()\n",
    "    plt.show()\n"
   ]
  },
  {
   "cell_type": "markdown",
   "id": "701c59d3",
   "metadata": {},
   "source": [
    "### IMPUTACIÓN DE NULOS"
   ]
  },
  {
   "cell_type": "markdown",
   "id": "a0836bdc",
   "metadata": {},
   "source": [
    "| Columna                                                                          | Tipo                      | % Nulos | Método      | Justificación                                         |\n",
    "| -------------------------------------------------------------------------------- | ------------------------- | ------- | ----------- | ----------------------------------------------------- |\n",
    "| `department`, `roledepartament`                                                  | categórica                | 81%     | `\"Unknown\"` | Alto nivel de nulos, se conserva info sin sesgo       |\n",
    "| `businesstravel`, `educationfield`, `overtime`, `maritalstatus`, `standardhours` | categóricas               | 20–50%  | `\"Unknown\"` | No sesgan la distribución, evita eliminar filas       |\n",
    "| `monthlyincome`, `salary`                                                        | categóricas (por formato) | 17–29%  | `\"Unknown\"` | Pérdida mínima de info, evita mal imputar números     |\n",
    "| `totalworkingyears`                                                              | numérica                  | 32.6%   | Mediana     | Más robusta ante outliers                             |\n",
    "| `performancerating`, `worklifebalance`                                           | numéricas discretas       | 12%, 6% | Moda (3)    | Valores ordinales, moda mantiene la tendencia central |\n"
   ]
  },
  {
   "cell_type": "markdown",
   "id": "df1c4605",
   "metadata": {},
   "source": [
    "#### department y roledepartment los vamos a eliminar porque su porcentaje de nulos es excesivamente alto."
   ]
  },
  {
   "cell_type": "code",
   "execution_count": 10,
   "id": "998d964a",
   "metadata": {},
   "outputs": [
    {
     "name": "stdout",
     "output_type": "stream",
     "text": [
      "🗑️ Columna 'department' eliminada: porcentaje de nulos excesivamente alto.\n",
      "🗑️ Columna 'roledepartament' eliminada: porcentaje de nulos excesivamente alto.\n",
      "\n",
      "✅ Columnas eliminadas correctamente (department y roledepartament).\n",
      "\n",
      "📋 Columnas actuales del DataFrame:\n",
      "['attrition', 'businesstravel', 'dailyrate', 'distancefromhome', 'education', 'educationfield', 'employeenumber', 'environmentsatisfaction', 'gender', 'jobinvolvement', 'joblevel', 'jobrole', 'jobsatisfaction', 'maritalstatus', 'monthlyincome', 'monthlyrate', 'numcompaniesworked', 'overtime', 'percentsalaryhike', 'performancerating', 'relationshipsatisfaction', 'standardhours', 'stockoptionlevel', 'totalworkingyears', 'trainingtimeslastyear', 'worklifebalance', 'yearsatcompany', 'yearssincelastpromotion', 'yearswithcurrmanager', 'datebirth', 'salary', 'remotework']\n"
     ]
    }
   ],
   "source": [
    "# Eliminación de columnas con exceso de nulos\n",
    "# ====================================================\n",
    "\n",
    "cols_drop = ['department', 'roledepartament']\n",
    "\n",
    "for col in cols_drop:\n",
    "    if col in df.columns:\n",
    "        df.drop(columns=[col], inplace=True)\n",
    "        print(f\"🗑️ Columna '{col}' eliminada: porcentaje de nulos excesivamente alto.\")\n",
    "    else:\n",
    "        print(f\"⚠️ La columna '{col}' no existe en el DataFrame.\")\n",
    "\n",
    "print(\"\\n✅ Columnas eliminadas correctamente (department y roledepartament).\")\n",
    "\n",
    "# Mostrar columnas restantes para verificar\n",
    "print(\"\\n📋 Columnas actuales del DataFrame:\")\n",
    "print(df.columns.tolist())"
   ]
  },
  {
   "cell_type": "markdown",
   "id": "db5c5825",
   "metadata": {},
   "source": [
    "Imputación de nulos en variables categóricas y numéricas"
   ]
  },
  {
   "cell_type": "code",
   "execution_count": 11,
   "id": "ef98acd0",
   "metadata": {},
   "outputs": [
    {
     "name": "stdout",
     "output_type": "stream",
     "text": [
      "✅ 'businesstravel' imputada con 'Unknown'\n",
      "✅ 'educationfield' imputada con 'Unknown'\n",
      "✅ 'overtime' imputada con 'Unknown'\n",
      "✅ 'maritalstatus' imputada con 'Unknown'\n",
      "✅ 'standardhours' imputada con 'Unknown'\n",
      "✅ 'monthlyincome' imputada con 'Unknown'\n",
      "✅ 'salary' imputada con 'Unknown'\n",
      "✅ 'totalworkingyears' imputada con mediana (10.0)\n",
      "✅ 'performancerating' imputada con moda (3.0)\n",
      "✅ 'worklifebalance' imputada con moda (3.0)\n",
      "\n",
      "🎉 No quedan nulos en el dataset.\n"
     ]
    },
    {
     "name": "stderr",
     "output_type": "stream",
     "text": [
      "C:\\Users\\apdue\\AppData\\Local\\Temp\\ipykernel_22704\\3472648260.py:18: DeprecationWarning: is_categorical_dtype is deprecated and will be removed in a future version. Use isinstance(dtype, pd.CategoricalDtype) instead\n",
      "  if pd.api.types.is_categorical_dtype(df[col]):\n"
     ]
    }
   ],
   "source": [
    "\n",
    "# ====================================================\n",
    "# 1️VARIABLES CATEGÓRICAS — IMPUTACIÓN CON 'Unknown'\n",
    "# ====================================================\n",
    "\n",
    "cols_unknown = [\n",
    "    'businesstravel',\n",
    "    'educationfield',\n",
    "    'overtime',\n",
    "    'maritalstatus',\n",
    "    'standardhours',\n",
    "    'monthlyincome',   \n",
    "    'salary'           \n",
    "]\n",
    "\n",
    "for col in cols_unknown:\n",
    "    if col in df.columns:\n",
    "        # Si la columna es categórica, agregamos 'Unknown' como categoría válida\n",
    "        if pd.api.types.is_categorical_dtype(df[col]):\n",
    "            if 'Unknown' not in df[col].cat.categories:\n",
    "                df[col] = df[col].cat.add_categories(['Unknown'])\n",
    "        # Rellenar los nulos\n",
    "        df[col] = df[col].fillna('Unknown')\n",
    "        print(f\"✅ '{col}' imputada con 'Unknown'\")\n",
    "\n",
    "# ====================================================\n",
    "# 2️⃣ VARIABLES NUMÉRICAS — SEGÚN NATURALEZA Y DISTRIBUCIÓN\n",
    "# ====================================================\n",
    "\n",
    "# totalworkingyears → imputar con mediana (distribución asimétrica)\n",
    "if 'totalworkingyears' in df.columns:\n",
    "    mediana_twy = df['totalworkingyears'].median()\n",
    "    df['totalworkingyears'] = df['totalworkingyears'].fillna(mediana_twy)\n",
    "    print(f\"✅ 'totalworkingyears' imputada con mediana ({mediana_twy})\")\n",
    "\n",
    "# performancerating → imputar con moda (valor más común = 3)\n",
    "if 'performancerating' in df.columns:\n",
    "    moda_perf = df['performancerating'].mode()[0]\n",
    "    df['performancerating'] = df['performancerating'].fillna(moda_perf)\n",
    "    print(f\"✅ 'performancerating' imputada con moda ({moda_perf})\")\n",
    "\n",
    "# worklifebalance → imputar con moda (valor más común = 3)\n",
    "if 'worklifebalance' in df.columns:\n",
    "    moda_wlb = df['worklifebalance'].mode()[0]\n",
    "    df['worklifebalance'] = df['worklifebalance'].fillna(moda_wlb)\n",
    "    print(f\"✅ 'worklifebalance' imputada con moda ({moda_wlb})\")\n",
    "\n",
    "# ====================================================\n",
    "# 3️⃣ VERIFICACIÓN FINAL\n",
    "# ====================================================\n",
    "nulos_restantes = df.isna().sum()\n",
    "nulos_restantes = nulos_restantes[nulos_restantes > 0]\n",
    "\n",
    "if len(nulos_restantes) == 0:\n",
    "    print(\"\\n🎉 No quedan nulos en el dataset.\")\n",
    "else:\n",
    "    print(\"\\n⚠️ Aún hay columnas con nulos:\")\n",
    "    print(nulos_restantes)"
   ]
  },
  {
   "cell_type": "code",
   "execution_count": 13,
   "id": "1b9d3f7e",
   "metadata": {},
   "outputs": [
    {
     "name": "stdout",
     "output_type": "stream",
     "text": [
      "No quedan valores nulos en el dataset.\n"
     ]
    }
   ],
   "source": [
    "\n",
    "# ====================================================\n",
    "# 1️Comprobación general\n",
    "# ====================================================\n",
    "total_nulos = df.isna().sum().sum()\n",
    "\n",
    "if total_nulos == 0:\n",
    "    print(\"No quedan valores nulos en el dataset.\")\n",
    "else:\n",
    "    print(f\"Quedan {total_nulos} valores nulos en total.\\n\")\n",
    "\n",
    "    # ====================================================\n",
    "    # Detalle por columna (solo las que tienen nulos)\n",
    "    # ====================================================\n",
    "    nulos_df = pd.DataFrame({\n",
    "        \"Columna\": df.columns,\n",
    "        \"Nulos\": df.isna().sum(),\n",
    "        \"Porcentaje (%)\": (df.isna().sum() / len(df) * 100).round(2),\n",
    "        \"Tipo de dato\": df.dtypes.astype(str)\n",
    "    })\n",
    "\n",
    "    nulos_df = nulos_df[nulos_df[\"Nulos\"] > 0].sort_values(by=\"Porcentaje (%)\", ascending=False)\n",
    "\n",
    "    display(nulos_df)"
   ]
  },
  {
   "cell_type": "markdown",
   "id": "2633ad7c",
   "metadata": {},
   "source": [
    "Guardamos el dataset sin nulos como csv:"
   ]
  },
  {
   "cell_type": "code",
   "execution_count": 14,
   "id": "db930ad7",
   "metadata": {},
   "outputs": [],
   "source": [
    "df.to_csv(\"ABC_data_sin_nulos.csv\", index=False, encoding='utf-8')"
   ]
  }
 ],
 "metadata": {
  "kernelspec": {
   "display_name": "base",
   "language": "python",
   "name": "python3"
  },
  "language_info": {
   "codemirror_mode": {
    "name": "ipython",
    "version": 3
   },
   "file_extension": ".py",
   "mimetype": "text/x-python",
   "name": "python",
   "nbconvert_exporter": "python",
   "pygments_lexer": "ipython3",
   "version": "3.13.5"
  }
 },
 "nbformat": 4,
 "nbformat_minor": 5
}
